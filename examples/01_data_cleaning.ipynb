{
 "cells": [
  {
   "cell_type": "markdown",
   "id": "universal-property",
   "metadata": {},
   "source": [
    "## Data preprocessing"
   ]
  },
  {
   "cell_type": "code",
   "execution_count": null,
   "id": "published-player",
   "metadata": {},
   "outputs": [],
   "source": [
    "import movekit as mkit\n",
    "import numpy as np\n",
    "import pandas as pd\n",
    "import matplotlib.pyplot as plt"
   ]
  },
  {
   "cell_type": "markdown",
   "id": "welsh-restriction",
   "metadata": {},
   "source": [
    "#### Read data input"
   ]
  },
  {
   "cell_type": "code",
   "execution_count": null,
   "id": "worst-scott",
   "metadata": {},
   "outputs": [],
   "source": [
    "# Enter path to CSV file\n",
    "path = \"./datasets/fish-5.csv\"\n",
    "\n",
    "# Alternative: enter path to Excel file\n",
    "# path = \"./datasets/fish-5.xlsx\""
   ]
  },
  {
   "cell_type": "code",
   "execution_count": null,
   "id": "empirical-marijuana",
   "metadata": {},
   "outputs": [],
   "source": [
    "# Read in file using \n",
    "data = mkit.read_data(path)\n",
    "data.head()"
   ]
  },
  {
   "cell_type": "code",
   "execution_count": null,
   "id": "preceding-tamil",
   "metadata": {},
   "outputs": [],
   "source": [
    "# Simple call of the preprocessing method\n",
    "preprocessed_data = mkit.preprocess(data)"
   ]
  },
  {
   "cell_type": "code",
   "execution_count": null,
   "id": "handled-implement",
   "metadata": {},
   "outputs": [],
   "source": [
    "# OPTIONAL: more parameters to control the preprocessing of data\n",
    "\n",
    "# preprocessed_data = mkit.preprocess(data, dropna=True, interpolation=False, limit=1, limit_direction=\"forward\", inplace=False, method=\"linear\")\n",
    "\n",
    "# Paramters \n",
    "#  data: DataFrame to perform preprocessing on\n",
    "#  dropna: Optional parameter to drop columns with  missing values for 'time' and 'animal_id'\n",
    "#  interpolate: Optional parameter to perform linear interpolation\n",
    "#  limit: Maximum number of consecutive NANs to fill\n",
    "#  limit_direction: If limit is specified, consecutive NaNs will be filled in this direction.\n",
    "#  method: Interpolation technique to use. Default is \"linear\".\n",
    "#  order: To be used in case of polynomial interpolation."
   ]
  },
  {
   "cell_type": "code",
   "execution_count": null,
   "id": "bridal-precipitation",
   "metadata": {},
   "outputs": [],
   "source": [
    "# OPTIONAL: converting positional data into scale, defined by user\n",
    "# preprocessed_data = mkit.convert_measueres(preprocessed_data, x_min = 0, x_max = 100, y_min = 0, y_max = 100)"
   ]
  },
  {
   "cell_type": "code",
   "execution_count": null,
   "id": "stretch-acting",
   "metadata": {},
   "outputs": [],
   "source": [
    "# save cleaned features to csv \n",
    "preprocessed_data.to_csv(\"datasets/fish-5-cleaned.csv\", index=False)"
   ]
  },
  {
   "cell_type": "markdown",
   "id": "9876b5e7-9b81-4d63-ac0e-bc66b99c88de",
   "metadata": {},
   "source": [
    "#### Support for geographic coordinates\n",
    "\n",
    "`movekit` is able to project data from GPS coordinates in the latitude and longitude format to the cartesian coordinate system."
   ]
  },
  {
   "cell_type": "code",
   "execution_count": null,
   "id": "91d2a975-b315-43a6-8d29-71822eab82fa",
   "metadata": {},
   "outputs": [],
   "source": [
    "path = \"./datasets/geo.csv\"\n",
    "\n",
    "# Read in file using \n",
    "geo_data = pd.read_csv(path, sep=';')\n",
    "geo_data.head()"
   ]
  },
  {
   "cell_type": "code",
   "execution_count": null,
   "id": "57c9419a-ee0d-4bdd-a27a-f5440822c063",
   "metadata": {},
   "outputs": [],
   "source": [
    "# convert and store in a new DataFrame\n",
    "projected_data = mkit.convert_latlon(geo_data)\n",
    "projected_data.head()"
   ]
  },
  {
   "cell_type": "markdown",
   "id": "2f4b3cb3-b8ae-44a8-960d-bbfc0e192ea1",
   "metadata": {},
   "source": [
    "Often, it is helpful to normalize the data, e.g. for plotting."
   ]
  },
  {
   "cell_type": "code",
   "execution_count": null,
   "id": "9fa1a20f-0cad-4df7-9312-35ae0998cd62",
   "metadata": {},
   "outputs": [],
   "source": [
    "projected_data = mkit.normalize(projected_data)"
   ]
  }
 ],
 "metadata": {
  "kernelspec": {
   "display_name": "Python 3",
   "language": "python",
   "name": "python3"
  },
  "language_info": {
   "codemirror_mode": {
    "name": "ipython",
    "version": 3
   },
   "file_extension": ".py",
   "mimetype": "text/x-python",
   "name": "python",
   "nbconvert_exporter": "python",
   "pygments_lexer": "ipython3",
   "version": "3.8.8"
  }
 },
 "nbformat": 4,
 "nbformat_minor": 5
}
